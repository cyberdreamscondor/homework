{
 "nbformat": 4,
 "nbformat_minor": 0,
 "metadata": {
  "colab": {
   "provenance": []
  },
  "kernelspec": {
   "name": "python3",
   "display_name": "Python 3"
  },
  "language_info": {
   "name": "python"
  }
 },
 "cells": [
  {
   "cell_type": "markdown",
   "metadata": {
    "id": "eeb28833",
    "pycharm": {
     "name": "#%% md\n"
    }
   },
   "source": [
    "### Task1) Car game.\n",
    "Every time you run your code, your program should print the following message:\n",
    "\n",
    "'Imagine you have a car. Tell me what to do with it. If you are a new user, enter \"help\" '\n",
    "\n",
    "When user enters \"help\" , your program should print the following message:\n",
    "\n",
    "* Enter start - to start the ride\n",
    "* Enter stop  - to stop the ride\n",
    "* Enter quit  - to quit the ride\n",
    "\n",
    "When user enters 'start', it will print: 'Car started, ready to go'\n",
    "\n",
    "When user enters stop, it must print: 'Car stopped\n",
    "\n",
    "When user enters 'quit', it must print: 'Game ended' and exit from the game"
   ]
  },
  {
   "cell_type": "code",
   "execution_count": 1,
   "metadata": {
    "id": "_uk2GYsox6G0",
    "pycharm": {
     "name": "#%%\n"
    }
   },
   "outputs": [
    {
     "name": "stdout",
     "output_type": "stream",
     "text": [
      "Car started, ready to go\n",
      "\n",
      "Aye aye, sir!\n",
      "Car stopped\n",
      "\n",
      "Car started, ready to go\n",
      "\n",
      " Enter start - to start the ride\n",
      " Enter stop - to stop the ride\n",
      " Enter quit - to quit the ride\n"
     ]
    },
    {
     "ename": "SystemExit",
     "evalue": "Game ended",
     "output_type": "error",
     "traceback": [
      "An exception has occurred, use %tb to see the full traceback.\n",
      "\u001B[1;31mSystemExit\u001B[0m\u001B[1;31m:\u001B[0m Game ended\n"
     ]
    },
    {
     "name": "stderr",
     "output_type": "stream",
     "text": [
      "F:\\Academy\\ACA\\Homework\\hw2\\venv\\Lib\\site-packages\\IPython\\core\\interactiveshell.py:3450: UserWarning: To exit: use 'exit', 'quit', or Ctrl-D.\n",
      "  warn(\"To exit: use 'exit', 'quit', or Ctrl-D.\", stacklevel=1)\n"
     ]
    }
   ],
   "source": [
    "# logic() wrapper for other functions. Recursion makes the game continuous.\n",
    "#         If command doesn't repeat -> if it exists -> do stuff\n",
    "# is_repeat() makes sure user commands do not repeat, i.e. endless loop of silent contempt :)\n",
    "# for_correct() for commands that exist prints the msg, takes new user input and restarts logic() with it\n",
    "# for_wrong() shows disrespect and restarts logic()\n",
    "# MAY BE it's possible to use less variables, passing then prom function to function... I have to read about the scope\n",
    "# just decided to use everything we learned so far\n",
    "\n",
    "import sys\n",
    "def logic(user_command, values, prev=''):\n",
    "\n",
    "    def is_repeat(user_com, prev_command=''):\n",
    "        prev_command = prev\n",
    "        if user_com == prev_command:\n",
    "            print('Aye aye, sir!')  # can't do twice\n",
    "            while user_com == prev_command: # loop until different command given\n",
    "                user_com = input(' ')\n",
    "            else:\n",
    "                return user_com\n",
    "        else:\n",
    "            return user_com\n",
    "\n",
    "    def for_correct():\n",
    "        print(values[x])\n",
    "        previous = x\n",
    "        command = input(' ')\n",
    "        logic(command, values, previous)\n",
    "\n",
    "    def for_wrong():\n",
    "        user_com = input('Mess with the best, die like the rest')\n",
    "        logic(user_com, values)\n",
    "\n",
    "\n",
    "    com = is_repeat(user_command)\n",
    "    if com == 'quit':\n",
    "        sys.exit('Game ended')   # return didn't work for me\n",
    "    for x in values:\n",
    "        if com == x:\n",
    "            for_correct()\n",
    "\n",
    "    for_wrong()\n",
    "\n",
    "scenarios = {'help': ' Enter start - to start the ride\\n Enter stop - to stop the ride\\n Enter quit - to quit the ride',\n",
    "            'start': \"Car started, ready to go\\n\",\n",
    "            'stop': 'Car stopped\\n',\n",
    "            'quit': 'Game ended\\n'}\n",
    "\n",
    "answer = input(' Imagine you have a car. Tell me what to do with it. '\n",
    "               'If you are a new user, enter “help”\\n ')\n",
    "\n",
    "logic(answer, scenarios)\n",
    "\n"
   ]
  },
  {
   "cell_type": "markdown",
   "metadata": {
    "id": "44699849",
    "pycharm": {
     "name": "#%% md\n"
    }
   },
   "source": [
    "### Task2)Accept number from user and calculate the sum of all number from 1 to a given number"
   ]
  },
  {
   "cell_type": "code",
   "metadata": {
    "id": "544828ad",
    "pycharm": {
     "name": "#%%\n"
    }
   },
   "source": [
    "number = int(input('Enter a number'))\n",
    "Sum = i = 1\n",
    "while i < number:\n",
    "    i +=1\n",
    "    Sum += i\n",
    "\n",
    "print(Sum)"
   ],
   "execution_count": 2,
   "outputs": [
    {
     "name": "stdout",
     "output_type": "stream",
     "text": [
      "15\n"
     ]
    }
   ]
  },
  {
   "cell_type": "markdown",
   "metadata": {
    "id": "2db1095f",
    "pycharm": {
     "name": "#%% md\n"
    }
   },
   "source": [
    "### Task3\n",
    "* Create a list of odd and even numbers(0-9) separately\n",
    "* Join that lists\n",
    "* Empty the list of even numbers, then delete it from the memory"
   ]
  },
  {
   "cell_type": "code",
   "source": [
    "even = [x for x in range(10) if x % 2 == 0]\n",
    "odd = [x for x in range(10) if x % 2 != 0]\n",
    "print(odd, even)\n",
    "odd.extend(even)\n",
    "print(odd)\n",
    "\n",
    "for x in odd[:]:\n",
    "    if x % 2 == 0:\n",
    "        odd.remove(x)\n",
    "print(odd)\n",
    "del odd"
   ],
   "metadata": {
    "id": "L_K_jdowz7rW",
    "pycharm": {
     "name": "#%%\n"
    }
   },
   "execution_count": 3,
   "outputs": [
    {
     "name": "stdout",
     "output_type": "stream",
     "text": [
      "[1, 3, 5, 7, 9] [0, 2, 4, 6, 8]\n",
      "[1, 3, 5, 7, 9, 0, 2, 4, 6, 8]\n",
      "[1, 3, 5, 7, 9]\n"
     ]
    }
   ]
  },
  {
   "cell_type": "markdown",
   "metadata": {
    "id": "3b63rHGy9Xww",
    "pycharm": {
     "name": "#%% md\n"
    }
   },
   "source": [
    "### Task4\n",
    "Given the list [[1,2,3,4,5],[6,7,8,9],[10,11,12]] \n",
    "1. Return [7,8]\n",
    "2. Return [[4,5],[6,7]]\n",
    "3. Create [5,4,3,9,10]\n",
    "4. Write a program that return it in reverse order. [[12,11,10],[9,8,7,6],[5,4,3,2,1]]\n"
   ]
  },
  {
   "cell_type": "code",
   "source": [
    "myList = [[1,2,3,4,5],[6,7,8,9],[10,11,12]]\n",
    "\n",
    "def func(lst):\n",
    "    return lst[1][1], lst[1][2]\n",
    "\n",
    "def func2(lst):\n",
    "    return lst[0][-2:], lst[1][:2]\n",
    "\n",
    "def rev(lst):\n",
    "    i = 0\n",
    "    newlist = []\n",
    "    j=0\n",
    "    for x in lst:\n",
    "        i = len(x)-1\n",
    "        newlist.append([])\n",
    "        while i >= 0:\n",
    "            newlist[j].append(x[i])\n",
    "            i -= 1\n",
    "        j += 1\n",
    "    print('Sublists items order reversed:',newlist)\n",
    "\n",
    "    rev_list = []\n",
    "    for x in newlist:\n",
    "        rev_list.insert(0, x)\n",
    "    print('and now sublists order is reversed as well:', rev_list)\n",
    "\n",
    "myList2 = []\n",
    "i=-1\n",
    "for x in myList[0]:\n",
    "    while i > -4:\n",
    "        myList2.append(myList[0][i])\n",
    "        i -=1\n",
    "myList2.append(myList[1][3])\n",
    "myList2.append(myList[2][0])\n",
    "print('Created with a bit of auto:', myList2)\n",
    "\n",
    "rev(myList)\n",
    "print('returned:', list(func(myList)))\n",
    "print('returned:', list(func2(myList)))"
   ],
   "metadata": {
    "id": "f82BOFryz8zN",
    "pycharm": {
     "name": "#%%\n"
    }
   },
   "execution_count": 4,
   "outputs": [
    {
     "name": "stdout",
     "output_type": "stream",
     "text": [
      "Created with a bit of auto: [5, 4, 3, 9, 10]\n",
      "Sublists items order reversed: [[5, 4, 3, 2, 1], [9, 8, 7, 6], [12, 11, 10]]\n",
      "and now sublists order is reversed as well: [[12, 11, 10], [9, 8, 7, 6], [5, 4, 3, 2, 1]]\n",
      "returned: [7, 8]\n",
      "returned: [[4, 5], [6, 7]]\n"
     ]
    }
   ]
  },
  {
   "cell_type": "markdown",
   "metadata": {
    "id": "xS0iPF-iKjaJ",
    "pycharm": {
     "name": "#%% md\n"
    }
   },
   "source": [
    "### Task5\n",
    "\n",
    "* Create a list of 5 even numbers and print the following: \"These are even numbers: *(your list)* \" \n",
    "* Create a copy of that list and calculate the average value of the new list\n",
    "* Remove the 3rd item of the new list, assign it to a variable, and print\n",
    "* Create another list of 5 odd numbers and join it with the list above and sort the values\n"
   ]
  },
  {
   "cell_type": "code",
   "source": [
    "even_list = []\n",
    "for i in range(10):\n",
    "    if i % 2 == 0:\n",
    "        even_list.append(i)\n",
    "unpacked = ''\n",
    "for j in even_list:\n",
    "    unpacked += str(j) + ' '\n",
    "print('These are even numbers:', unpacked)  # I could go \",main_list\", but it would be printed as a list with []\n",
    "\n",
    "copy_list = even_list.copy()\n",
    "total = 0\n",
    "for x in copy_list:\n",
    "    total += x\n",
    "    avg = total / len(copy_list)\n",
    "print('average is:', avg)\n",
    "\n",
    "removed = copy_list.pop(2)\n",
    "print('popped value:', removed)\n",
    "\n",
    "# list of 5 odd numbers...\n",
    "odd_list =[]\n",
    "for i in range(10):\n",
    "    if i % 2 != 0:\n",
    "        odd_list.append(i)\n",
    "mutant_list = even_list + odd_list\n",
    "mutant_list.sort()\n",
    "print(mutant_list)\n"
   ],
   "metadata": {
    "id": "0EowWCqcz9Rl",
    "pycharm": {
     "name": "#%%\n"
    }
   },
   "execution_count": 5,
   "outputs": [
    {
     "name": "stdout",
     "output_type": "stream",
     "text": [
      "These are even numbers: 0 2 4 6 8 \n",
      "average is: 4.0\n",
      "popped value: 4\n",
      "[0, 1, 2, 3, 4, 5, 6, 7, 8, 9]\n"
     ]
    }
   ]
  },
  {
   "cell_type": "markdown",
   "metadata": {
    "id": "Db9jbTE3jk3K",
    "pycharm": {
     "name": "#%% md\n"
    }
   },
   "source": [
    "### Task6\n",
    "Create 2 list of the same length. Then print if the two lists are cyclic shifts of one another.\n",
    "\n",
    "Example:\n",
    "\n",
    "list1 = [1,2,3,4,5]\n",
    "\n",
    "list2 = [5,4,3,2,1]\n",
    "\n",
    "Output: True"
   ]
  },
  {
   "cell_type": "code",
   "metadata": {
    "id": "7D1ageSaSGdQ",
    "pycharm": {
     "name": "#%%\n"
    }
   },
   "source": [
    "list1 = [1, 2, 3, 4, 5]\n",
    "list2 = [1, 2, 3, 4, 5]\n",
    "#list2 = [5, 4, 3, 2, 1]\n",
    "\n",
    "\n",
    "def cshift(lst1, lst2):\n",
    "    i = 0\n",
    "    j = len(list2)-1\n",
    "\n",
    "    for x in lst1:\n",
    "        if lst1[i] == lst2[j]:\n",
    "            i += 1\n",
    "            j -= 1\n",
    "    else:\n",
    "        print('Lists are not cyclic shifts')\n",
    "    if j < 0:\n",
    "        print('Lists are cyclic shifts')\n",
    "\n",
    "cshift(list1, list2)\n"
   ],
   "execution_count": 6,
   "outputs": [
    {
     "name": "stdout",
     "output_type": "stream",
     "text": [
      "Lists are not cyclic shifts\n"
     ]
    }
   ]
  },
  {
   "cell_type": "markdown",
   "metadata": {
    "id": "m8r94FthdAaM",
    "pycharm": {
     "name": "#%% md\n"
    }
   },
   "source": [
    "### Task7) Write a Python program to get the Fibonacci series between 0 to 50.\n",
    "\n",
    "Note : The Fibonacci Sequence is the series of numbers :\n",
    "0, 1, 1, 2, 3, 5, 8, 13, 21, .... \n",
    "Every next number is found by adding up the two numbers before it."
   ]
  },
  {
   "cell_type": "code",
   "metadata": {
    "id": "_Zzrk_AxZwcs",
    "pycharm": {
     "name": "#%%\n"
    }
   },
   "source": [
    "i = 0\n",
    "fib = num = 1\n",
    "prev = 0\n",
    "while i <= 47:\n",
    "    prev = num\n",
    "    num = fib\n",
    "    fib = prev + num\n",
    "    print(fib)\n",
    "    i += 1"
   ],
   "execution_count": 7,
   "outputs": [
    {
     "name": "stdout",
     "output_type": "stream",
     "text": [
      "2\n",
      "3\n",
      "5\n",
      "8\n",
      "13\n",
      "21\n",
      "34\n",
      "55\n",
      "89\n",
      "144\n",
      "233\n",
      "377\n",
      "610\n",
      "987\n",
      "1597\n",
      "2584\n",
      "4181\n",
      "6765\n",
      "10946\n",
      "17711\n",
      "28657\n",
      "46368\n",
      "75025\n",
      "121393\n",
      "196418\n",
      "317811\n",
      "514229\n",
      "832040\n",
      "1346269\n",
      "2178309\n",
      "3524578\n",
      "5702887\n",
      "9227465\n",
      "14930352\n",
      "24157817\n",
      "39088169\n",
      "63245986\n",
      "102334155\n",
      "165580141\n",
      "267914296\n",
      "433494437\n",
      "701408733\n",
      "1134903170\n",
      "1836311903\n",
      "2971215073\n",
      "4807526976\n",
      "7778742049\n",
      "12586269025\n"
     ]
    }
   ]
  },
  {
   "cell_type": "markdown",
   "metadata": {
    "id": "dwxFdPBcdwBm",
    "pycharm": {
     "name": "#%% md\n"
    }
   },
   "source": [
    "### Task8) This is your list: [10, 99, 98, 85, 45, 59, 65, 66, 76, 12, 35, 13, 100, 80, 95]\n",
    "\n",
    "Iterate through the list(without for loop) and if there is a 13, print it with its index number. i.e.: \"There is a 13 at index no: 5\""
   ]
  },
  {
   "cell_type": "code",
   "metadata": {
    "id": "GY5lO4kneCC0",
    "pycharm": {
     "name": "#%%\n"
    }
   },
   "source": [
    "bigdata = [10, 99, 98, 85, 45, 59, 65, 66, 76, 12, 35, 13, 100, 80, 95]\n",
    "i = 0\n",
    "while i < len(bigdata):\n",
    "\n",
    "    if bigdata[i] == 13:\n",
    "        print('There is a 13 at index no:', i)\n",
    "    i +=1"
   ],
   "execution_count": 8,
   "outputs": [
    {
     "name": "stdout",
     "output_type": "stream",
     "text": [
      "There is a 13 at index no: 11\n"
     ]
    }
   ]
  },
  {
   "cell_type": "markdown",
   "metadata": {
    "id": "VmHZJtMigkKd",
    "pycharm": {
     "name": "#%% md\n"
    }
   },
   "source": [
    "### Task9) Write an emoji converter, which will convert from \n",
    ":( to 😔, and from :) to 😃 \n",
    "\n",
    "When user enters \"I am sad :( \" it prints \"I am sad 😔 \"\n",
    "\n",
    "When user enters \"I am happy :)\", your program prints \"I am happy 😃\" \n",
    "\n",
    "_**hint**_ use for loop and dictionaries"
   ]
  },
  {
   "cell_type": "code",
   "metadata": {
    "id": "yyAudQyZhX8D",
    "pycharm": {
     "name": "#%%\n"
    }
   },
   "source": [
    "phrase = input('Input something. Don\\'t forget a smiley :) or :( \\'cos that\\'s how we talk nowadays ')\n",
    "new_lang = {':)': b'\\xf0\\x9f\\x98\\x83'.decode('utf-8'),\n",
    "            ':(': b'\\xE2\\x98\\xB9'.decode('utf-8')\n",
    "            }\n",
    "phrase = phrase.split()\n",
    "i=0\n",
    "for x in new_lang:\n",
    "    for i in range(len(phrase)):\n",
    "        if x == phrase[i]:\n",
    "            phrase[i] = new_lang[x]\n",
    "phrase = ' '.join(phrase)\n",
    "print(phrase)\n"
   ],
   "execution_count": 9,
   "outputs": [
    {
     "name": "stdout",
     "output_type": "stream",
     "text": [
      "Hi 😃 I am 30 ☹ years old\n"
     ]
    }
   ]
  },
  {
   "cell_type": "code",
   "execution_count": null,
   "outputs": [],
   "source": [],
   "metadata": {
    "collapsed": false,
    "pycharm": {
     "name": "#%%\n"
    }
   }
  }
 ]
}