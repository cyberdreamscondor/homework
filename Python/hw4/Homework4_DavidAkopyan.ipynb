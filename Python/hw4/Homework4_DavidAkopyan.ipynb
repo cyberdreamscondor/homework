{
 "nbformat": 4,
 "nbformat_minor": 0,
 "metadata": {
  "colab": {
   "provenance": [],
   "authorship_tag": "ABX9TyMKeXN3y4irIlGnldNk9qz0"
  },
  "kernelspec": {
   "name": "python3",
   "display_name": "Python 3"
  },
  "language_info": {
   "name": "python"
  }
 },
 "cells": [
  {
   "cell_type": "markdown",
   "metadata": {
    "id": "3P_A-O48sbos",
    "pycharm": {
     "name": "#%% md\n"
    }
   },
   "source": [
    "### Task1) Perfect Numbers\n",
    "\n",
    "An integer _n_ is said to be perfect when the sum of all of the proper divisors of n is equal to n. For example, 28 is a perfect number because its proper divisors are 1, 2, 4, 7 and 14, and 1 + 2 + 4 + 7 + 14 = 28.\n",
    "\n",
    "Write a function that determines whether or not a positive integer is perfect.Your function will take one parameter.If that parameter is a perfect number then your function will return true.Otherwise it will return false.In addition, write a main program that uses your function to identify and display all of the perfect numbers between 1 and 10,000."
   ]
  },
  {
   "cell_type": "code",
   "source": [
    "def isperfect(n):\n",
    "    i = n-1\n",
    "    total = 0\n",
    "    while i >= 1:\n",
    "        if n % i == 0:\n",
    "            total += i\n",
    "        i -= 1\n",
    "    if total == n:\n",
    "        return True\n",
    "\n",
    "\n",
    "num = 10001\n",
    "for x in range(1, num):\n",
    "    if isperfect(x):\n",
    "        print(x)"
   ],
   "metadata": {
    "id": "nTTXWD7qeyDS",
    "pycharm": {
     "name": "#%%\n"
    }
   },
   "execution_count": 1,
   "outputs": [
    {
     "name": "stdout",
     "output_type": "stream",
     "text": [
      "6\n",
      "28\n",
      "496\n",
      "8128\n"
     ]
    }
   ]
  },
  {
   "cell_type": "markdown",
   "metadata": {
    "id": "OMeU7f14uYoD",
    "pycharm": {
     "name": "#%% md\n"
    }
   },
   "source": [
    "### Task2) Collatz sequence\n",
    "\n",
    "A Collatz sequence is formed as follows: We start with some number n, and we ﬁnd the next number in the sequence by\n",
    "\n",
    "![](https://drive.google.com/uc?export=view&id=1efD3mcohYSt1UQnd4axbJgoQr0BQmhMc)\n",
    "\n",
    "If n  = 1, we stop iterating and have found the full sequence.\n",
    "\n",
    "Input: 5\n",
    "\n",
    "Output 5 16 8 4 2 1"
   ]
  },
  {
   "cell_type": "code",
   "source": [
    "# it is impossible to predict whether sequence reaches 1 for any integer, so I put a limitation of operations\n",
    "def wonder(n):\n",
    "    sequence = ''\n",
    "    limit = 0\n",
    "    while n != 1 and limit < 100:\n",
    "        if n % 2 == 0:\n",
    "            n = n//2\n",
    "        else:\n",
    "            n = 3 * n + 1\n",
    "\n",
    "        sequence += ' ' + str(n)\n",
    "        limit += 1\n",
    "    return sequence\n",
    "\n",
    "num = int(input('Input a number'))\n",
    "print(wonder(num))"
   ],
   "metadata": {
    "id": "KwsIcH9VezAy",
    "pycharm": {
     "name": "#%%\n"
    }
   },
   "execution_count": 2,
   "outputs": [
    {
     "name": "stdout",
     "output_type": "stream",
     "text": [
      " 370 185 556 278 139 418 209 628 314 157 472 236 118 59 178 89 268 134 67 202 101 304 152 76 38 19 58 29 88 44 22 11 34 17 52 26 13 40 20 10 5 16 8 4 2 1\n"
     ]
    }
   ]
  },
  {
   "cell_type": "markdown",
   "metadata": {
    "id": "JJi-aT51Wupv",
    "pycharm": {
     "name": "#%% md\n"
    }
   },
   "source": [
    "### Task3) Boring Numbers\n",
    "\n",
    "A natural number is said to be boring if all the digits are the same. Write a function which will determine if the given number is boring.\n",
    "\n",
    "Input: 777\n",
    "\n",
    "Output: True"
   ]
  },
  {
   "cell_type": "code",
   "source": [
    "def boring(n):\n",
    "    i = 0\n",
    "    while i < len(n)-1:\n",
    "        if n[i] == n[i+1]:\n",
    "            i +=1\n",
    "        else:\n",
    "            return False\n",
    "    else:\n",
    "        return True\n",
    "\n",
    "num = input('Input at least a two-digit integer ')\n",
    "print(f'is {num} boring? {boring(num)}')\n"
   ],
   "metadata": {
    "id": "1c6rM2HjezxR",
    "pycharm": {
     "name": "#%%\n"
    }
   },
   "execution_count": 4,
   "outputs": [
    {
     "name": "stdout",
     "output_type": "stream",
     "text": [
      "is 9999999 boring? True\n"
     ]
    }
   ]
  },
  {
   "cell_type": "markdown",
   "metadata": {
    "id": "FikADA7QXlh9",
    "pycharm": {
     "name": "#%% md\n"
    }
   },
   "source": [
    "### Task4) Lucky Number\n",
    "\n",
    "Lets call a number lucky if the sum of its digits on even positions is equal to the sum of digits on odd positions. Let's consider 15224. the sum of odd positions are 1 + 2 + 4 = 7. The sum of digits on even positions is 5 + 2 = 7. Thus, 15224 is lucky number. Write a function which will return 'Yes' if the number is Lucky and No if the number is not."
   ]
  },
  {
   "cell_type": "code",
   "source": [],
   "metadata": {
    "id": "BnbX756je1kK",
    "pycharm": {
     "name": "#%%\n"
    }
   },
   "execution_count": null,
   "outputs": []
  },
  {
   "cell_type": "code",
   "execution_count": 1,
   "outputs": [
    {
     "name": "stdout",
     "output_type": "stream",
     "text": [
      "Does luck even exist? True\n"
     ]
    }
   ],
   "source": [
    "# 4564564565 random input - Lucky! :)\n",
    "def luck(n):\n",
    "    i = 0\n",
    "    odd_sum = even_sum = 0\n",
    "    while i < len(n):\n",
    "        if i % 2 == 0:\n",
    "            odd_sum += int(n[i])\n",
    "        else:\n",
    "            even_sum += int(n[i])\n",
    "        i += 1\n",
    "    if odd_sum == even_sum:\n",
    "        return True\n",
    "    else:\n",
    "        return False\n",
    "\n",
    "num = input('Try luck! Enter an integer right now! No registartion and SMS for the keybord Jedi:) ')\n",
    "answer = luck(num)\n",
    "print(f'Does luck even exist? {answer}')"
   ],
   "metadata": {
    "collapsed": false,
    "pycharm": {
     "name": "#%%\n"
    }
   }
  },
  {
   "cell_type": "markdown",
   "metadata": {
    "id": "edJ0hIEyT_vu",
    "pycharm": {
     "name": "#%% md\n"
    }
   },
   "source": [
    "### Task5) Now find all lucky numbers within [200,300] and keep only odd ones"
   ]
  },
  {
   "cell_type": "code",
   "source": [
    "number = 200\n",
    "while number <= 300:\n",
    "    if luck(str(number)) and number % 2 != 0:\n",
    "        print(number)\n",
    "    number += 1"
   ],
   "metadata": {
    "id": "FqgAzjWne2ki",
    "pycharm": {
     "name": "#%%\n"
    }
   },
   "execution_count": 2,
   "outputs": [
    {
     "name": "stdout",
     "output_type": "stream",
     "text": [
      "231\n",
      "253\n",
      "275\n",
      "297\n"
     ]
    }
   ]
  },
  {
   "cell_type": "markdown",
   "metadata": {
    "id": "RdNXkbtpD-zT",
    "pycharm": {
     "name": "#%% md\n"
    }
   },
   "source": [
    "### Task6) Sorting\n",
    "\n",
    "Define a function which accepts a list of integers and the sort order(asc or disc) and returns it the sorted list. Don't use sort but define it from scratch.\n",
    "\n",
    "Input: sort([1,3,2],'asc') <br>\n",
    "Output: [1,2,3] "
   ]
  },
  {
   "cell_type": "code",
   "source": [
    "### only slow sorting ###\n",
    "def slow_sort_again(lst, param):\n",
    "    i = 0\n",
    "    j = 0\n",
    "    for i in range(len(lst)):\n",
    "        for j in range(len(lst)):\n",
    "            if param == 'asc':\n",
    "                if lst[i] < lst[j]:\n",
    "                    lst[j], lst[i] = lst[i], lst[j]\n",
    "            elif param == 'dsc':\n",
    "                if lst[i] > lst[j]:\n",
    "                    lst[j], lst[i] = lst[i], lst[j]\n",
    "    print(lst)\n",
    "\n",
    "### Version II ### which I prefer\n",
    "def slow_sort(loc):\n",
    "    for item_index in range(len(loc)):\n",
    "        for run_index in range(len(loc)):\n",
    "            if loc[item_index] > loc[run_index]:\n",
    "                if run_index < item_index:  # > for descending;\n",
    "                    continue\n",
    "                loc[run_index], loc[item_index] = loc[item_index], loc[run_index]\n",
    "    print(loc)\n",
    "\n",
    "\n",
    "# these test lists are quite good in my Humble opinion.\n",
    "l1 = [4, 0, 1, 0.5, -7, 255, 3]\n",
    "l2 = [-3, 77, 11, 0, -2, 5, 10]\n",
    "l3 = [5, 2, 3, 1, 0]\n",
    "l4 = ['Yerevan', 'Moon', 'Mars', 'Florida', 'Past']\n",
    "\n",
    "slow_sort_again(l1, 'asc')\n",
    "slow_sort_again(l2, 'dsc')\n",
    "slow_sort_again(l4, 'asc')\n",
    "\n",
    "print('Version II, ascending:')\n",
    "slow_sort(l1)\n",
    "slow_sort(l4)"
   ],
   "metadata": {
    "id": "ZoI3FkeZe3cJ",
    "pycharm": {
     "name": "#%%\n"
    }
   },
   "execution_count": 3,
   "outputs": [
    {
     "name": "stdout",
     "output_type": "stream",
     "text": [
      "[-7, 0, 0.5, 1, 3, 4, 255]\n",
      "[77, 11, 10, 5, 0, -2, -3]\n",
      "['Florida', 'Mars', 'Moon', 'Past', 'Yerevan']\n",
      "Version II, ascending:\n",
      "[-7, 0, 0.5, 1, 3, 4, 255]\n",
      "['Florida', 'Mars', 'Moon', 'Past', 'Yerevan']\n"
     ]
    }
   ]
  },
  {
   "cell_type": "markdown",
   "source": [
    "### Task7)\n",
    "Jaden Smith, the son of Will Smith, is the star of films such as The Karate Kid (2010) and After Earth (2013). Jaden is also known for some of his philosophy that he delivers via Twitter. When writing on Twitter, he is known for almost always capitalizing every word. For simplicity, you'll have to capitalize each word, check out how contractions are expected to be in the example below.\n",
    "\n",
    "Your task is to convert strings to how they would be written by Jaden Smith. The strings are actual quotes from Jaden Smith, but they are not capitalized in the same way he originally typed them.\n",
    "\n",
    "Example:\n",
    "```\n",
    "Not Jaden-Cased: \"How can mirrors be real if our eyes aren't real\"\n",
    "Jaden-Cased:     \"How Can Mirrors Be Real If Our Eyes Aren't Real\"\n",
    "```\n",
    "\n"
   ],
   "metadata": {
    "id": "WFLV627esyiU",
    "pycharm": {
     "name": "#%% md\n"
    }
   }
  },
  {
   "cell_type": "code",
   "source": [
    "# There are numerous test cases to fail with this code, but I am not even trying to cover them.\n",
    "# I suppose it is not expected with the task like this.\n",
    "string = input('Input anything ')\n",
    "print(f'Input string is: {string}')\n",
    "\n",
    "list = string.split(' ')\n",
    "list2 = []\n",
    "for x in list:\n",
    "    list2.append(x.capitalize())\n",
    "result = ' '.join(list2)\n",
    "print(f'Result is: {result}')"
   ],
   "metadata": {
    "id": "ZiV95qLme4aJ",
    "pycharm": {
     "name": "#%%\n"
    }
   },
   "execution_count": 3,
   "outputs": [
    {
     "name": "stdout",
     "output_type": "stream",
     "text": [
      "Input string is: _HI, MY name iS DaVId, I am 30 years old. *-\n",
      "Result is: _hi, My Name Is David, I Am 30 Years Old. *-\n"
     ]
    }
   ]
  },
  {
   "cell_type": "markdown",
   "metadata": {
    "id": "t5VbP1bYhfUK",
    "pycharm": {
     "name": "#%% md\n"
    }
   },
   "source": [
    "### Task8) Write a function that evaluates the polynomial  3𝑥^2−𝑥+2 \n",
    "\n",
    "Input: polynomial(2)\n",
    "\n",
    "Output: 12"
   ]
  },
  {
   "cell_type": "code",
   "metadata": {
    "id": "D0wYuzJShmom",
    "pycharm": {
     "name": "#%%\n"
    }
   },
   "source": [
    "def polynomial(x):\n",
    "    val = 3 * x**2 -x + 2\n",
    "    return val\n",
    "\n",
    "\n",
    "result = polynomial(2)\n",
    "print(result)"
   ],
   "execution_count": 6,
   "outputs": [
    {
     "name": "stdout",
     "output_type": "stream",
     "text": [
      "12\n"
     ]
    }
   ]
  },
  {
   "cell_type": "markdown",
   "metadata": {
    "id": "mYcPyfwkG1XV",
    "pycharm": {
     "name": "#%% md\n"
    }
   },
   "source": [
    "### Task9) Line of Best Fit\n",
    "\n",
    "A line of best ﬁt is a straight line that best approximates a collection of n datapoints. In this exercise, we will assume that each point in the collection has x coordinate and y coordinate.The symbols $\\bar{x}$ and $\\bar{y}$ are used to represent the average x value in the lists respectively. The line of best ﬁt is represented by the equation $y = mx+b$ where m and b are calculated using the following formulas:\n",
    "\n",
    "$m = \\dfrac{\\sum{xy} - \\dfrac{(\\sum{x})(\\sum{y})}{n}}{ \\sum{x^2} - \\dfrac{(\\sum{x})^2}{n}}$\n",
    "\n",
    "$ b = \\bar{y} - m\\bar{x}$\n",
    "\n",
    "Write a program that accepts 2 lists from the user (x and y). Display the formula for the line of best ﬁt in the form y =mx+b by replacing m and b with the values you calculated using the preceding formulas. \n",
    "\n",
    "Input: [1, 2, 3], [1, 2.1, 2.9] <br>\n",
    "Output: $ y= 0.95x + 0.1$\n",
    "\n",
    "Note: You can use len(x) to get the count of the elements of the list."
   ]
  },
  {
   "cell_type": "code",
   "execution_count": 4,
   "outputs": [
    {
     "name": "stdout",
     "output_type": "stream",
     "text": [
      "[1.0, 2.0, 3.0] [1.0, 2.1, 2.9]\n",
      "sum_xy = 13.9, sum_sqx = 14.0, sq_sumx = 36.0, aver_x = 2.0, aver_y= 2.0\n",
      "m = 0.95\n",
      "b = 0.1\n",
      "\n",
      "y = 0.95x+0.1\n"
     ]
    }
   ],
   "source": [
    "def space_remover(lst):\n",
    "    lst = lst.split()\n",
    "    lst = ' '.join(lst)\n",
    "    return lst.split()\n",
    "\n",
    "def average(data):\n",
    "    ave = sum(data) / len(data)\n",
    "    return ave\n",
    "\n",
    "\n",
    "xlist = input('Enter x coordinates separated with spaces ')\n",
    "ylist = input('Enter y coordinates separated with spaces ')\n",
    "\n",
    "xlist = space_remover(xlist)\n",
    "xlist = [float(x) for x in xlist]\n",
    "ylist = space_remover(ylist)\n",
    "ylist = [float(y) for y in ylist]\n",
    "\n",
    "print(xlist, ylist)\n",
    "aver_x = average(xlist)\n",
    "aver_y = average(ylist)\n",
    "\n",
    "### Calculation of m taking into consideration floating point limitations ###\n",
    "sum_xy = 0\n",
    "sum_sqx = 0\n",
    "sq_sumx = 0\n",
    "i = 0\n",
    "\n",
    "while i < len(xlist) and i < len(ylist):\n",
    "    sum_xy += (xlist[i] * ylist[i])\n",
    "    sum_sqx += (xlist[i] * xlist[i])\n",
    "    i += 1\n",
    "sum_xy = round(sum_xy,2)\n",
    "sq_sumx = round(sum(xlist) * sum(xlist), 2)\n",
    "\n",
    "print(f'sum_xy = {sum_xy}, sum_sqx = {sum_sqx}, sq_sumx = {sq_sumx}, aver_x = {aver_x}, aver_y= {aver_y}')\n",
    "m = (sum_xy - sum(xlist) * sum(ylist) / len(xlist)) / (sum_sqx - sq_sumx/len(xlist))\n",
    "m = round(m,2)\n",
    "print('m =',m)\n",
    "b = round((aver_y - m * aver_x),1)\n",
    "print('b =', b)\n",
    "\n",
    "print(f'\\ny = {m}x+{b}')"
   ],
   "metadata": {
    "collapsed": false,
    "pycharm": {
     "name": "#%%\n"
    }
   }
  },
  {
   "cell_type": "code",
   "source": [],
   "metadata": {
    "id": "tj-DHwMhe6cK",
    "pycharm": {
     "name": "#%%\n"
    }
   },
   "execution_count": null,
   "outputs": []
  },
  {
   "cell_type": "markdown",
   "metadata": {
    "id": "d3WW5W_QgWz9",
    "pycharm": {
     "name": "#%% md\n"
    }
   },
   "source": [
    "### Task10) Write a function my_max(x,y) that returns the maximum of x and y. Do not use the max function, but use if/else instead.\n",
    "\n",
    "Input: my_max(5,10)\n",
    "\n",
    "Output: 10"
   ]
  },
  {
   "cell_type": "code",
   "metadata": {
    "id": "EU0C8zqrgho_",
    "pycharm": {
     "name": "#%%\n"
    }
   },
   "source": [
    "# probability of bein equal is lower, so I place it at the end of the conditional statement\n",
    "def my_max(a,b):\n",
    "    if a > b:\n",
    "        return a\n",
    "    elif a < b:\n",
    "        return b\n",
    "    else:\n",
    "        return 'equal'\n",
    "\n",
    "print(my_max(-0.5, 1.05))"
   ],
   "execution_count": 7,
   "outputs": [
    {
     "name": "stdout",
     "output_type": "stream",
     "text": [
      "1.05\n"
     ]
    }
   ]
  },
  {
   "cell_type": "code",
   "execution_count": null,
   "outputs": [],
   "source": [],
   "metadata": {
    "collapsed": false,
    "pycharm": {
     "name": "#%%\n"
    }
   }
  }
 ]
}