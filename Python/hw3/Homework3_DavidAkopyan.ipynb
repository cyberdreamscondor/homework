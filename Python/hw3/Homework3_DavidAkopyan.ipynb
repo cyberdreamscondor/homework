{
 "nbformat": 4,
 "nbformat_minor": 0,
 "metadata": {
  "colab": {
   "provenance": []
  },
  "kernelspec": {
   "name": "python3",
   "display_name": "Python 3"
  },
  "language_info": {
   "name": "python"
  }
 },
 "cells": [
  {
   "cell_type": "markdown",
   "metadata": {
    "id": "xPvaw906NCbf",
    "pycharm": {
     "name": "#%% md\n"
    }
   },
   "source": [
    "### Task1\n",
    "Create a set of colors and prove that sets are unordered, unindexed and mutable(each of them write in separate cells)"
   ]
  },
  {
   "cell_type": "code",
   "source": [
    "colors = {'red', 'blue', 'orange'}\n",
    "print(\"Initial set: {'red', 'blue', 'orange'}  differs from a printed set:\", colors)\n",
    "\n",
    "colors.add('blue')\n",
    "print('\\nUnsuccessful attempt to add '\n",
    "      'already existing color \"blue\":\\n'\n",
    "      'duplicates not allowed <=> unindexed \\n')\n",
    "\n",
    "colors1 ={'blue', 'blue', 'red', 'white','red', 'black'}\n",
    "print(\"Duplicates are excluded from the initial set, {'blue', 'blue', 'red', 'white','red', 'black'}.\\n\"\n",
    "      \"This proves set is mutable. \"\n",
    "      \"It is the items that are immutable. Final set : \", colors1)"
   ],
   "metadata": {
    "id": "NrpYAqjKhzdF",
    "pycharm": {
     "name": "#%%\n"
    }
   },
   "execution_count": 1,
   "outputs": [
    {
     "name": "stdout",
     "output_type": "stream",
     "text": [
      "Initial set: {'red', 'blue', 'orange'}  differs from a printed set: {'orange', 'red', 'blue'}\n",
      "\n",
      "Unsuccessful attempt to add already existing color \"blue\":\n",
      "duplicates not allowed <=> unindexed \n",
      "\n",
      "Duplicates are excluded from the initial set, {'blue', 'blue', 'red', 'white','red', 'black'}.\n",
      "This proves set is mutable. It is the items that are immutable. Final set :  {'black', 'white', 'red', 'blue'}\n"
     ]
    }
   ]
  },
  {
   "cell_type": "markdown",
   "metadata": {
    "id": "JOVOfAVdG6ng",
    "pycharm": {
     "name": "#%% md\n"
    }
   },
   "source": [
    "### Task2\n",
    "Create a dictionary which will describe your favourite  country. It must contain information about the name, capital, area,driving side(left or right) and population of your country(you can use Wikipedia as a source).\n",
    "\n",
    "For example my dictionary looks like this:\n",
    "\n",
    "    my_country = \n",
    "            {\n",
    "              'name':'Armenia',\n",
    "\n",
    "              'population':2850000,\n",
    "\n",
    "              ... }"
   ]
  },
  {
   "cell_type": "code",
   "metadata": {
    "id": "K8Yv8Vx7QJCV",
    "pycharm": {
     "name": "#%%\n"
    }
   },
   "source": [
    "empire = {'name': 'Galactic Empire',\n",
    "          'population': 11000000000,\n",
    "          'capital': 'Yerevan',\n",
    "          'area': 197000000,\n",
    "          'gr_driveside': 'right',\n",
    "          'air_driveside': 'left'}"
   ],
   "execution_count": 12,
   "outputs": []
  },
  {
   "cell_type": "markdown",
   "metadata": {
    "id": "8o31dOOjeKMW",
    "pycharm": {
     "name": "#%% md\n"
    }
   },
   "source": [
    "### Task3\n",
    "Write a Python program to find the median of three values.\n",
    "Expected Output:\n",
    "\n",
    "Input first number: 30                                               \n",
    "Input second number: 26                                                 \n",
    "Input third number: 29                                                  \n",
    "The median is 29\n"
   ]
  },
  {
   "cell_type": "code",
   "source": [
    "numbers = []\n",
    "for x in range(3):\n",
    "    numbers.append(float(input('input a number ')))\n",
    "    print(f'Number {x} is : ', numbers[x])\n",
    "# I could let the user input numbers at once and other stuff, but\n",
    "# this is not what the problem is about.\n",
    "numbers.sort()\n",
    "median = numbers[1] # having only 3 numbers lets me do this\n",
    "print('Median is:', median)\n"
   ],
   "metadata": {
    "id": "J6ssoV_ghhI7",
    "pycharm": {
     "name": "#%%\n"
    }
   },
   "execution_count": 5,
   "outputs": [
    {
     "name": "stdout",
     "output_type": "stream",
     "text": [
      "Number 0 is :  -7.45\n",
      "Number 1 is :  34.0\n",
      "Number 2 is :  33.0\n",
      "Median is: 33.0\n"
     ]
    }
   ]
  },
  {
   "cell_type": "markdown",
   "metadata": {
    "id": "PbA1CDNadVAt",
    "pycharm": {
     "name": "#%% md\n"
    }
   },
   "source": [
    "### Task4\n",
    "Write a Python program to calculate a dog's age in dog's years.For the first two years, a dog year is equal to 10.5 human years. After that, each dog year equals 4 human years.\n",
    "\n",
    "Expected Output:\n",
    "\n",
    "Input a dog's age in human years: 15                                    \n",
    "The dog's age in dog's years is 73"
   ]
  },
  {
   "cell_type": "code",
   "metadata": {
    "id": "sFUlwnWadqVc",
    "pycharm": {
     "name": "#%%\n"
    }
   },
   "source": [
    "print(' *** Welcome to doggo age converter xD ***')\n",
    "print('    Scientific accuracy is not pursued')\n",
    "years = int(input(\"Enter dog's full human years \"))\n",
    "months = int(input(\"Enter dog's full human months \"))\n",
    "days = int(input(\"Enter dog's human days \"))\n",
    "\n",
    "if years <= 2:\n",
    "    year_equiv = 10.5\n",
    "    mon2year_equiv = 10.5 / 24\n",
    "    day2year_equiv = 10.5 / 365\n",
    "\n",
    "    age = round(years * year_equiv + months * mon2year_equiv + days * day2year_equiv)\n",
    "    print(f\"Doggo's {age} human years\")\n",
    "else:\n",
    "    year_equiv = 4\n",
    "    mon2year_equiv = 4 / 12\n",
    "    day2year_equiv = 4 / 365\n",
    "\n",
    "    age = round(2 * 10.5 + (years - 2 ) * year_equiv + months * mon2year_equiv + days * day2year_equiv)\n",
    "    print(f\"Doggo's {age} human years\")"
   ],
   "execution_count": 6,
   "outputs": [
    {
     "name": "stdout",
     "output_type": "stream",
     "text": [
      " *** Welcome to doggo age converter xD ***\n",
      "    Scientific accuracy is not pursued\n",
      "Doggo's 36 human years\n"
     ]
    }
   ]
  },
  {
   "cell_type": "markdown",
   "metadata": {
    "id": "rGEQdC17TonB",
    "pycharm": {
     "name": "#%% md\n"
    }
   },
   "source": [
    "### Task5\n",
    "Write a Python program to convert temperatures to and from celsius, fahrenheit.\n",
    "Formula : c/5 = f-32/9 where c = temperature in celsius and f = temperature in fahrenheit \n",
    "\n",
    "Expected Output : \n",
    "\n",
    "60°C is 140 in Fahrenheit\n",
    "\n",
    "45°F is 7 in Celsius "
   ]
  },
  {
   "cell_type": "code",
   "metadata": {
    "id": "Mmco5I05cia0",
    "pycharm": {
     "name": "#%%\n"
    }
   },
   "source": [
    "decision = input('Enter 1 for C --> F conversion or 2 for F --> C ')\n",
    "degree = float(input('Enter a degree '))\n",
    "\n",
    "# c/5 = f/9 -32/9\n",
    "if decision == '1':\n",
    "    f = round((9 * degree + 160) / 5)\n",
    "    print(f'{degree} Celsius is {f} in Fahrenheit')\n",
    "if decision == '2':\n",
    "    c = round((5 * degree - 160) / 9)\n",
    "    print(f'{degree} Fahrenheit is {c} in Celsius')"
   ],
   "execution_count": 7,
   "outputs": [
    {
     "name": "stdout",
     "output_type": "stream",
     "text": [
      "15.0 Celsius is 59 in Fahrenheit\n"
     ]
    }
   ]
  },
  {
   "cell_type": "code",
   "execution_count": null,
   "outputs": [],
   "source": [],
   "metadata": {
    "collapsed": false,
    "pycharm": {
     "name": "#%%\n"
    }
   }
  },
  {
   "cell_type": "markdown",
   "metadata": {
    "id": "ZVaEot8ZIxmO",
    "pycharm": {
     "name": "#%% md\n"
    }
   },
   "source": [
    "### Task6\n",
    "Add a new key that will show whether your country is a member of EU or not. Then print the keys of your dictionary"
   ]
  },
  {
   "cell_type": "code",
   "source": [
    "country = {}\n",
    "country.update({'eu_member': 'no'})\n",
    "print(list(country.keys()))"
   ],
   "metadata": {
    "id": "oqHNsdYZh5Uc",
    "pycharm": {
     "name": "#%%\n"
    }
   },
   "execution_count": 17,
   "outputs": [
    {
     "name": "stdout",
     "output_type": "stream",
     "text": [
      "['eu_member']\n"
     ]
    }
   ]
  },
  {
   "cell_type": "markdown",
   "metadata": {
    "id": "2XcLBf7qMZ5l",
    "pycharm": {
     "name": "#%% md\n"
    }
   },
   "source": [
    "### Task7\n",
    "Add a new key with name 'neighboring_countries' which corresponding value should be a list of neighboring countries"
   ]
  },
  {
   "cell_type": "code",
   "source": [
    "neighbours = ['neighbor1', 'neighbor2']\n",
    "neighbours_str = ', '.join(neighbours)\n",
    "country['neighboring_countries'] = neighbours_str\n",
    "print(country)"
   ],
   "metadata": {
    "id": "dW_oi0J7h588",
    "pycharm": {
     "name": "#%%\n"
    }
   },
   "execution_count": 9,
   "outputs": [
    {
     "name": "stdout",
     "output_type": "stream",
     "text": [
      "{'eu_member': 'no', 'neighboring_countries': 'neighbor1, neighbor2'}\n"
     ]
    }
   ]
  },
  {
   "cell_type": "markdown",
   "metadata": {
    "id": "7Pv7iKayPiCU",
    "pycharm": {
     "name": "#%% md\n"
    }
   },
   "source": [
    "### Task8\n",
    "Print the religion key from your dictionary, if there is no any, it should print 'No religion is specified'."
   ]
  },
  {
   "cell_type": "code",
   "source": [
    "if 'religion' not in country.keys():\n",
    "    print('No religion is specified')\n",
    "    country['religion'] = 'Christianity'\n",
    "    print('Religion is added:', country['religion'])"
   ],
   "metadata": {
    "id": "cnbKk0R_h7bu",
    "pycharm": {
     "name": "#%%\n"
    }
   },
   "execution_count": 10,
   "outputs": [
    {
     "name": "stdout",
     "output_type": "stream",
     "text": [
      "No religion is specified\n",
      "Religion is added: Christianity\n"
     ]
    }
   ]
  },
  {
   "cell_type": "markdown",
   "metadata": {
    "id": "3cUdhX1cQX5h",
    "pycharm": {
     "name": "#%% md\n"
    }
   },
   "source": [
    "### Task9\n",
    "Write a program that will ask user to enter his/her password. Password should :\n",
    "* be more than 8 letters\n",
    "* contain '-'\n",
    "* not be neither all uppercase nor lowercase\n",
    "\n",
    "If one of the above mentioned conditions does not met it should print an informing message to user, for example 'Your password is less than 8 letters'"
   ]
  },
  {
   "cell_type": "code",
   "metadata": {
    "id": "87XhYslpSd2F",
    "pycharm": {
     "name": "#%%\n"
    }
   },
   "source": [
    "def check(pwd): # Correcting one mistake at a time\n",
    "    if len(pwd) <= 8:\n",
    "        print(f'{pwd}: Password must have more than 8 characters')\n",
    "    elif '-' not in pwd:\n",
    "        print(f\"{pwd}: Password must contain '-' sign\")\n",
    "    elif pwd.isupper() or pwd.islower():\n",
    "        print(f\"{pwd}: Password must contain upper and lower case characters\")\n",
    "\n",
    "    else:\n",
    "        print(f\"{pwd}: Password set\")\n",
    "        return True\n",
    "\n",
    "\n",
    "while not check(input('Enter a password ')): # what a Pe(a)rl :)\n",
    "    continue\n"
   ],
   "execution_count": 16,
   "outputs": [
    {
     "name": "stdout",
     "output_type": "stream",
     "text": [
      "pas: Password must have more than 8 characters\n",
      "password1: Password must contain '-' sign\n",
      "password1-: Password must contain upper and lower case characters\n",
      "passWord1-: Password set\n"
     ]
    }
   ]
  },
  {
   "cell_type": "markdown",
   "metadata": {
    "id": "oXUlU3iDSICg",
    "pycharm": {
     "name": "#%% md\n"
    }
   },
   "source": [
    "### Task10\n",
    "Write a program that will ask user to enter his/her name, and nationality. Then your program should do one of the following:\n",
    "* print 'Բարև' , if the nationality is armenian\n",
    "* print 'Добрый день', if the nationality is russian or 'Georgian'\n",
    "* print 'Hello' if the user belongs to another nation\n"
   ]
  },
  {
   "cell_type": "code",
   "source": [
    "nationality = {'Armenian': 'Բարև', 'Russian, Georgian': 'Добрый день'}\n",
    "answer = input('Please enter your nationality ')\n",
    "print(f'You nationality is {answer}')\n",
    "\n",
    "for i in nationality:\n",
    "    key_list = i.split(', ') # I use this to prevent greetings other than \"Hello\" for nationalities like \"Ar\", \"ian\"... etc.\n",
    "    if answer in key_list:\n",
    "        print(nationality[i])\n",
    "        break\n",
    "else:\n",
    "    print('Hello!')"
   ],
   "metadata": {
    "id": "yi352LaDh8v9",
    "pycharm": {
     "name": "#%%\n"
    }
   },
   "execution_count": 21,
   "outputs": [
    {
     "name": "stdout",
     "output_type": "stream",
     "text": [
      "You nationality is Georgian\n",
      "Добрый день\n"
     ]
    }
   ]
  },
  {
   "cell_type": "code",
   "execution_count": null,
   "outputs": [],
   "source": [],
   "metadata": {
    "collapsed": false,
    "pycharm": {
     "name": "#%%\n"
    }
   }
  }
 ]
}