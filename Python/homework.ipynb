{
 "cells": [
  {
   "cell_type": "markdown",
   "metadata": {
    "id": "rc1PKVELqJ4k",
    "pycharm": {
     "name": "#%% md\n"
    }
   },
   "source": [
    "###1.Write a code that will print:\n",
    "**Hello! This is my first homework**"
   ]
  },
  {
   "cell_type": "code",
   "execution_count": null,
   "metadata": {
    "id": "fpr98vsSGtYF",
    "pycharm": {
     "name": "#%%\n",
     "is_executing": true
    }
   },
   "outputs": [],
   "source": [
    "print(\"Hello! This is my first homework\")"
   ]
  },
  {
   "cell_type": "code",
   "execution_count": null,
   "metadata": {
    "collapsed": false,
    "pycharm": {
     "is_executing": true,
     "name": "#%%\n"
    }
   },
   "outputs": [],
   "source": [
    "###2.How will you check whether 5 is even or odd"
   ]
  },
  {
   "cell_type": "code",
   "execution_count": null,
   "metadata": {
    "id": "6YPnxUUbGuN1",
    "pycharm": {
     "name": "#%%\n",
     "is_executing": true
    }
   },
   "outputs": [],
   "source": [
    "if 5 % 2 == 0:\n",
    "    print(\"even\")\n",
    "else:\n",
    "    print(\"odd\")"
   ]
  },
  {
   "cell_type": "markdown",
   "metadata": {
    "id": "LD_UpV5RqJ4q",
    "pycharm": {
     "name": "#%% md\n"
    }
   },
   "source": [
    "###3. Write a code that will print Tumanyan's quatrain in this form\n",
    "\n",
    "    Հին աշխարհքը ամեն օր,\n",
    "    \n",
    "        Հազար մարդ է մտնում նոր,\n",
    "    \n",
    "            Հազար տարվա փորձ ու գործ\n",
    "    \n",
    "                Ըսկսվում է ամեն օր։"
   ]
  },
  {
   "cell_type": "code",
   "execution_count": 3,
   "metadata": {
    "id": "DaWqzoPMGuzV",
    "pycharm": {
     "name": "#%%\n"
    }
   },
   "outputs": [
    {
     "name": "stdout",
     "output_type": "stream",
     "text": [
      "Հին աշխարհքը ամեն օր,\n",
      "\n",
      "    Հազար մարդ է մտնում նոր,\n",
      "\n",
      "        Հազար տարվա փորձ ու գործ\n",
      "\n",
      "            Ըսկսվում է ամեն օր։\n"
     ]
    }
   ],
   "source": [
    "verse = \"\"\"Հին աշխարհքը ամեն օր,\n",
    "\n",
    "    Հազար մարդ է մտնում նոր,\n",
    "\n",
    "        Հազար տարվա փորձ ու գործ\n",
    "\n",
    "            Ըսկսվում է ամեն օր։\"\"\"\n",
    "print(verse)\n",
    "\n"
   ]
  },
  {
   "cell_type": "code",
   "execution_count": null,
   "metadata": {
    "pycharm": {
     "name": "#%%\n"
    }
   },
   "outputs": [],
   "source": [
    "# Այսպես ավելի կարճ կլինի՝\n",
    "print('Հին աշխարհքը ամեն օր,')\n",
    "print('\\n\\tՀազար մարդ է մտնում նոր,')\n",
    "print('\\n\\t\\tՀազար տարվա փորձ ու գործ')\n",
    "print('\\n\\t\\t\\tԸսկսվում է ամեն օր։')"
   ]
  },
  {
   "cell_type": "markdown",
   "metadata": {
    "id": "rCLW-Vu3uRvg",
    "pycharm": {
     "name": "#%% md\n"
    }
   },
   "source": [
    "###4. Write this word in all in *uppercases* and then *lowercase*, then make only the *first letter an uppercase*: __\"education\"__"
   ]
  },
  {
   "cell_type": "code",
   "execution_count": 1,
   "metadata": {
    "id": "7x3e-88cGv2N",
    "pycharm": {
     "name": "#%%\n"
    }
   },
   "outputs": [
    {
     "name": "stdout",
     "output_type": "stream",
     "text": [
      "__\"EDUCATION\"__\n",
      "__\"education\"__\n",
      "__\"Education\"__\n"
     ]
    }
   ],
   "source": [
    "word = '__\"education\"__'\n",
    "upWord = word.upper()\n",
    "print(upWord)\n",
    "lowWord = upWord.lower()\n",
    "print(lowWord)\n",
    "trunc =  lowWord.split('\"',1)\n",
    "trunc = trunc[0] + '\"' + trunc[1].capitalize() #կամ word.title()\n",
    "print(trunc)"
   ]
  },
  {
   "cell_type": "markdown",
   "metadata": {
    "id": "5K5dT7xoQEm5",
    "pycharm": {
     "name": "#%% md\n"
    }
   },
   "source": [
    "###5.Check if there is a word __\"The\"__ in the sentence:  __\"The world is a copy of a copy of a copy\"__\n",
    "\n",
    "- if there is -show me the index of that word\n",
    "- replace it with the word \"This\" "
   ]
  },
  {
   "cell_type": "code",
   "execution_count": null,
   "metadata": {
    "id": "Lv0_u76JQ10q",
    "pycharm": {
     "name": "#%%\n",
     "is_executing": true
    }
   },
   "outputs": [],
   "source": [
    "sentence = \"The world is a copy of a copy of a copy\"\n",
    "sentence.replace(\"The\", \"This\")\n",
    "print(sentence)"
   ]
  },
  {
   "cell_type": "code",
   "execution_count": null,
   "metadata": {
    "pycharm": {
     "name": "#%%\n"
    }
   },
   "outputs": [],
   "source": [
    "# Պետք էր նախադասության մեջ փոխարինել The-ն This-ով\n",
    "print(sentence.replace('The', 'This'))"
   ]
  },
  {
   "cell_type": "markdown",
   "metadata": {
    "id": "ArVlLOmVqJ4t",
    "pycharm": {
     "name": "#%% md\n"
    }
   },
   "source": [
    "###6. Create a *name* variable and assign your name to it"
   ]
  },
  {
   "cell_type": "code",
   "execution_count": 13,
   "metadata": {
    "id": "Mj7jm1LIGx0F",
    "pycharm": {
     "name": "#%%\n"
    }
   },
   "outputs": [],
   "source": [
    "name = \"David\""
   ]
  },
  {
   "cell_type": "markdown",
   "metadata": {
    "id": "YTbl-TXnqJ4u",
    "pycharm": {
     "name": "#%% md\n"
    }
   },
   "source": [
    "###7. Create a *carname* variable and assign *BMW* to it ."
   ]
  },
  {
   "cell_type": "code",
   "execution_count": null,
   "metadata": {
    "id": "2ol5jWqRGysN",
    "pycharm": {
     "name": "#%%\n"
    }
   },
   "outputs": [],
   "source": [
    "carname = \"BMW\""
   ]
  },
  {
   "cell_type": "markdown",
   "metadata": {
    "id": "1tQ21j4PqJ4v",
    "pycharm": {
     "name": "#%% md\n"
    }
   },
   "source": [
    "###8.Create a *year* variable and assign 2015 to it"
   ]
  },
  {
   "cell_type": "code",
   "execution_count": null,
   "metadata": {
    "id": "gVAWDFswGzyt",
    "pycharm": {
     "name": "#%%\n"
    }
   },
   "outputs": [],
   "source": [
    "year = 2015"
   ]
  },
  {
   "cell_type": "markdown",
   "metadata": {
    "id": "f8PUF9M6qJ4w",
    "pycharm": {
     "name": "#%% md\n"
    }
   },
   "source": [
    "###9. Create a string with the above created variables and print it. \n",
    "Example \n",
    "\n",
    "string = '(name) has a (carname) since (year)'\n",
    "\n",
    "print(string)"
   ]
  },
  {
   "cell_type": "code",
   "execution_count": 22,
   "metadata": {
    "id": "-YDR1dr2G0sl",
    "pycharm": {
     "name": "#%%\n"
    }
   },
   "outputs": [
    {
     "name": "stdout",
     "output_type": "stream",
     "text": [
      "David has a BMW since 2015\n"
     ]
    }
   ],
   "source": [
    "name = \"David\"\n",
    "carname = \"BMW\"\n",
    "year = 2015\n",
    "string = f\"{name} has a {carname} since {year}\"\n",
    "print(string)"
   ]
  },
  {
   "cell_type": "markdown",
   "metadata": {
    "id": "EazjKulluZHv",
    "pycharm": {
     "name": "#%% md\n"
    }
   },
   "source": [
    "###10. Imagine we have a cube and the side is 4.6 cm. Calculate the volume"
   ]
  },
  {
   "cell_type": "code",
   "execution_count": 24,
   "metadata": {
    "id": "9gEH-CRUG1z1",
    "pycharm": {
     "name": "#%%\n"
    }
   },
   "outputs": [
    {
     "name": "stdout",
     "output_type": "stream",
     "text": [
      "97.33599999999998\n"
     ]
    }
   ],
   "source": [
    "vol = 4.6**3\n"
   ]
  },
  {
   "cell_type": "markdown",
   "metadata": {
    "id": "kbMVM1Nbutqm",
    "pycharm": {
     "name": "#%% md\n"
    }
   },
   "source": [
    "### 11. Make __one integer, one float, one string and one boolean__ type variables and __print also their types.__"
   ]
  },
  {
   "cell_type": "code",
   "execution_count": 46,
   "metadata": {
    "id": "ggFrepUqG22t",
    "pycharm": {
     "name": "#%%\n"
    }
   },
   "outputs": [
    {
     "name": "stdout",
     "output_type": "stream",
     "text": [
      "<class 'str'>\n",
      "<class 'bool'>\n",
      "<class 'int'>\n",
      "<class 'float'>\n"
     ]
    }
   ],
   "source": [
    "x = \"5.4\" # Just want to try conversion\n",
    "x_bool = bool(x)\n",
    "x_int = int(float(x))\n",
    "x_float = float(x)\n",
    "myList = [x, x_bool, x_int, x_float]\n",
    "for i in myList:\n",
    "    print(type(i))\n"
   ]
  },
  {
   "cell_type": "markdown",
   "metadata": {
    "id": "W5RC6K5BQEm9",
    "pycharm": {
     "name": "#%% md\n"
    }
   },
   "source": [
    "### 12. *__If the candidate has high income and good credit, then he is eligible for the loan.__*\n",
    "\n",
    "Mark has high income, but doesn't have good credit. Is he eligible for the loan? \n",
    "- *hint*: __solution is with logic operators__ and __the output is boolean__"
   ]
  },
  {
   "cell_type": "code",
   "execution_count": 38,
   "metadata": {
    "id": "GgukuGQSQizD",
    "pycharm": {
     "name": "#%%\n"
    }
   },
   "outputs": [
    {
     "name": "stdout",
     "output_type": "stream",
     "text": [
      "True\n"
     ]
    }
   ],
   "source": [
    "income = input(\"If high income input True, else: False\")\n",
    "credit = input(\"If high credit input True, else: False\")\n",
    "if (income or credit) == \"True\":\n",
    "    eligibility = True\n",
    "else:\n",
    "    eligibility = False\n",
    "print(eligibility)\n"
   ]
  },
  {
   "cell_type": "code",
   "execution_count": 1,
   "metadata": {
    "pycharm": {
     "name": "#%%\n"
    }
   },
   "outputs": [
    {
     "name": "stdout",
     "output_type": "stream",
     "text": [
      "False\n"
     ]
    }
   ],
   "source": [
    "# Կամ՝\n",
    "\n",
    "high_income = True\n",
    "good_credit = False\n",
    "eligible_for = high_income and good_credit\n",
    "print(eligible_for)"
   ]
  },
  {
   "cell_type": "markdown",
   "metadata": {
    "id": "bb597b45",
    "pycharm": {
     "name": "#%% md\n"
    }
   },
   "source": [
    "###13\n",
    "* Store 5 names of your classmates in a list\n",
    "* Add Lilit to the list and using list indexing print a greeting message to her\n",
    "\n",
    "*For ex:* Welcome Lilit!"
   ]
  },
  {
   "cell_type": "code",
   "execution_count": 51,
   "metadata": {
    "id": "Zbmh2Nz2G45s",
    "pycharm": {
     "name": "#%%\n"
    }
   },
   "outputs": [
    {
     "name": "stdout",
     "output_type": "stream",
     "text": [
      "Greetings, Lilit!\n"
     ]
    }
   ],
   "source": [
    "classmates = [\"Vahagn\", \"David\", \"Astghik\", \"Kokordilos\", \"Bob\"]\n",
    "classmates.append(\"Lilit\")\n",
    "Lilit = classmates[-1]\n",
    "print(f\"Greetings, {Lilit}!\")\n",
    "\n",
    "\n",
    "\n",
    "\n"
   ]
  },
  {
   "cell_type": "markdown",
   "metadata": {
    "id": "211abbe8",
    "pycharm": {
     "name": "#%% md\n"
    }
   },
   "source": [
    "### Task14\n",
    "Think of at least five places in the world you’d like to visit. Store the locations in a list.\n",
    "* Print the length of your list\n",
    "* Change your list so it’s stored in alphabetical order. Print the list to show that its order has been changed.\n",
    "* Imagine that you changed your mind. Replace one of the places with another place\n",
    "* Remove the last place from the list.\n",
    "* Check whether Madrid is in your list, if not add it as a third item, otherwise remove it from the list"
   ]
  },
  {
   "cell_type": "code",
   "execution_count": 2,
   "metadata": {
    "collapsed": false,
    "pycharm": {
     "name": "#%%\n"
    }
   },
   "outputs": [
    {
     "name": "stdout",
     "output_type": "stream",
     "text": [
      "List before changes: ['Yerevan', 'Moon', 'Mars', 'Florida', 'Past']\n",
      "List length= 5\n",
      "List after changing item[2]: ['Yerevan', 'Moon', 'Gyumri', 'Florida', 'Past']\n",
      "The last item deleted: ['Yerevan', 'Moon', 'Gyumri', 'Florida']\n",
      "Madrid is added to the list ['Yerevan', 'Moon', 'Madrid', 'Gyumri', 'Florida']\n",
      "Alphabetical order: ['Florida', 'Gyumri', 'Madrid', 'Moon', 'Yerevan']\n"
     ]
    }
   ],
   "source": [
    "loc = [\"Yerevan\", \"Moon\", \"Mars\", \"Florida\", \"Past\"]\n",
    "print(\"List before changes:\", loc)\n",
    "length = len(loc)\n",
    "print(\"List length=\", length)\n",
    "loc[2] = \"Gyumri\"\n",
    "print(\"List after changing item[2]:\", loc)\n",
    "del loc[-1] # կամ loc.pop()\n",
    "print(\"The last item deleted:\", loc)\n",
    "\n",
    "i = 0\n",
    "not_found = True\n",
    "while i < len(loc):\n",
    "    if loc[i] == \"Madrid\": # կամ ՝ loc.remove('Madrid')\n",
    "        del loc[i] \n",
    "        not_found = False\n",
    "    i += 1\n",
    "if not_found:\n",
    "    loc.insert(2, \"Madrid\")\n",
    "    print(\"Madrid is added to the list\", loc)\n",
    "else:\n",
    "    print(\"Madrid is deleted from the list\", loc)\n",
    "\n",
    "# loc.sort() or let me try to figure it out myself\n",
    "# item_index - a consecutive position of a list item to be compared with the rest of the list.\n",
    "for item_index in range(len(loc)):\n",
    "    for run_index in range(len(loc)):\n",
    "        if loc[item_index] > loc[run_index]:\n",
    "            if run_index < item_index:  # omg, what a terrific bug it was :)\n",
    "                continue\n",
    "            swap = loc[run_index]\n",
    "            loc[run_index] = loc[item_index]\n",
    "            loc[item_index] = swap\n",
    "\n",
    "print(\"Alphabetical order:\", loc)\n"
   ]
  },
  {
   "cell_type": "code",
   "execution_count": null,
   "metadata": {
    "id": "XnH00JOSG5yE",
    "pycharm": {
     "name": "#%%\n"
    }
   },
   "outputs": [],
   "source": []
  },
  {
   "cell_type": "markdown",
   "metadata": {
    "id": "wByi-DAYL73Y",
    "pycharm": {
     "name": "#%% md\n"
    }
   },
   "source": [
    "### Task15\n",
    "\n",
    "Create 3 tuples(use all creation methods that you already know). Put the tuples in an empty list(with append()). Change the second item of that list"
   ]
  },
  {
   "cell_type": "code",
   "execution_count": 28,
   "metadata": {
    "id": "GlZ95iLQF1P9",
    "pycharm": {
     "name": "#%%\n"
    }
   },
   "outputs": [
    {
     "name": "stdout",
     "output_type": "stream",
     "text": [
      "Now this is a tuple: ('item1', 999, 'item3')\n",
      "List full of tuples: [('item1', 'item2', 'item3'), ('item1', 'item2', 'item3'), ('item1', 999, 'item3'), ('1', 2, '3')]\n",
      "When second item's changed: [('item1', 'item2', 'item3'), 'changed', ('item1', 999, 'item3'), ('1', 2, '3')]\n"
     ]
    }
   ],
   "source": [
    "tuple1 = (\"item1\", \"item2\", \"item3\")\n",
    "tuple2 = tuple((\"item1\", \"item2\", \"item3\"))\n",
    "\n",
    "not_tuple = 'item1', 999, 'item3'\n",
    "print(\"Now this is a tuple:\", not_tuple)\n",
    "\n",
    "myList = [\"1\", 2, \"3\" ]\n",
    "tuple4 = tuple(myList)\n",
    "\n",
    "# Putting tuples in an empty list\n",
    "myList.clear()\n",
    "addingList = [tuple1, tuple2, not_tuple, tuple4] # I just don't want to add each tuple 'manually'.\n",
    "for x in addingList:\n",
    "    myList.append(x)\n",
    "print(\"List full of tuples:\", myList)\n",
    "\n",
    "myList[1] = 'changed'\n",
    "print(\"When second item's changed:\", myList)\n",
    "\n",
    "\n",
    "\n",
    "\n"
   ]
  },
  {
   "cell_type": "code",
   "execution_count": null,
   "metadata": {
    "collapsed": false,
    "pycharm": {
     "name": "#%%\n"
    }
   },
   "outputs": [],
   "source": []
  }
 ],
 "metadata": {
  "colab": {
   "authorship_tag": "ABX9TyOcOhIVte0gARUBLgx3fFtd",
   "provenance": []
  },
  "kernelspec": {
   "display_name": "base",
   "language": "python",
   "name": "python3"
  },
  "language_info": {
   "codemirror_mode": {
    "name": "ipython",
    "version": 3
   },
   "file_extension": ".py",
   "mimetype": "text/x-python",
   "name": "python",
   "nbconvert_exporter": "python",
   "pygments_lexer": "ipython3",
   "version": "3.8.8"
  },
  "vscode": {
   "interpreter": {
    "hash": "09566eaa20368a8dbaab4ededf11470a4c27fefaa2f39971707323297fc353e8"
   }
  }
 },
 "nbformat": 4,
 "nbformat_minor": 0
}